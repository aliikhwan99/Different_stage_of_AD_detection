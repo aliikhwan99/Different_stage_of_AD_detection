{
  "metadata": {
    "kernelspec": {
      "language": "python",
      "display_name": "Python 3",
      "name": "python3"
    },
    "language_info": {
      "name": "python",
      "version": "3.10.14",
      "mimetype": "text/x-python",
      "codemirror_mode": {
        "name": "ipython",
        "version": 3
      },
      "pygments_lexer": "ipython3",
      "nbconvert_exporter": "python",
      "file_extension": ".py"
    },
    "kaggle": {
      "accelerator": "none",
      "dataSources": [
        {
          "sourceId": 9592054,
          "sourceType": "datasetVersion",
          "datasetId": 5850466
        }
      ],
      "dockerImageVersionId": 30786,
      "isInternetEnabled": true,
      "language": "python",
      "sourceType": "notebook",
      "isGpuEnabled": false
    },
    "colab": {
      "name": "Different_stage_of_AD_detection",
      "provenance": [],
      "include_colab_link": true
    }
  },
  "nbformat_minor": 0,
  "nbformat": 4,
  "cells": [
    {
      "cell_type": "markdown",
      "metadata": {
        "id": "view-in-github",
        "colab_type": "text"
      },
      "source": [
        "<a href=\"https://colab.research.google.com/github/aliikhwan99/Different_stage_of_AD_detection/blob/main/Different_stage_of_AD_detection.ipynb\" target=\"_parent\"><img src=\"https://colab.research.google.com/assets/colab-badge.svg\" alt=\"Open In Colab\"/></a>"
      ]
    },
    {
      "source": [
        "# IMPORTANT: SOME KAGGLE DATA SOURCES ARE PRIVATE\n",
        "# RUN THIS CELL IN ORDER TO IMPORT YOUR KAGGLE DATA SOURCES.\n",
        "import kagglehub\n",
        "kagglehub.login()\n"
      ],
      "metadata": {
        "id": "1yC6lNwPOnCg"
      },
      "cell_type": "code",
      "outputs": [],
      "execution_count": null
    },
    {
      "source": [
        "# IMPORTANT: RUN THIS CELL IN ORDER TO IMPORT YOUR KAGGLE DATA SOURCES,\n",
        "# THEN FEEL FREE TO DELETE THIS CELL.\n",
        "# NOTE: THIS NOTEBOOK ENVIRONMENT DIFFERS FROM KAGGLE'S PYTHON\n",
        "# ENVIRONMENT SO THERE MAY BE MISSING LIBRARIES USED BY YOUR\n",
        "# NOTEBOOK.\n",
        "import os\n",
        "import shutil\n",
        "\n",
        "nooraliikhwan_stage_of_alzheimer_path = kagglehub.dataset_download('nooraliikhwan/stage-of-alzheimer')\n",
        "\n",
        "print('Data source import complete.')\n"
      ],
      "metadata": {
        "id": "0jixxTByOnCr"
      },
      "cell_type": "code",
      "outputs": [],
      "execution_count": null
    },
    {
      "cell_type": "markdown",
      "source": [
        "# Step-by-Step Process\n",
        "\n",
        "1. Convert DICOM to NIfTI (if necessary)\n",
        "2. Preprocess the rs-fMRI data: Load the NIfTI file and process the fMRI data to extract time series or compute functional connectivity.\n",
        "3. Visualize brain surfaces: Project the functional data to cortical surfaces.\n",
        "4. Create Functional Connectivity Matrices: Compute correlation matrices to represent functional connectivity between brain regions."
      ],
      "metadata": {
        "id": "RSSN3xUSOnCu"
      }
    },
    {
      "cell_type": "markdown",
      "source": [
        "# Compulsory Libraries\n",
        "\n",
        "1. nibabel: For loading and handling DICOM/NIfTI files.\n",
        "2. nilearn: For preprocessing, visualizing, and computing functional connectivity.\n",
        "3. numpy: For matrix operations.\n",
        "4. matplotlib: For visualizations."
      ],
      "metadata": {
        "id": "jBtNCWyXOnCz"
      }
    },
    {
      "cell_type": "markdown",
      "source": [
        "# Averaging across time (optional)"
      ],
      "metadata": {
        "id": "ZOAOyl1uOnC1"
      }
    },
    {
      "cell_type": "code",
      "source": [
        "\n",
        "\n",
        "!dcm2niix -o /kaggle/working/ -f fmri_image /kaggle/input/stage-of-alzheimer/EMCI/ADNI/002_S_2010/Resting_State_fMRI/2010-06-24_14_21_28.0/I180734\n"
      ],
      "metadata": {
        "id": "KuvVZfTSOnC2"
      },
      "execution_count": null,
      "outputs": []
    },
    {
      "cell_type": "code",
      "source": [
        "from nilearn import image, datasets, surface, plotting\n",
        "\n",
        "# Load your newly converted NIfTI image\n",
        "fmri_img = image.load_img('/kaggle/working/fmri_image.nii')\n",
        "\n",
        "# Select the first volume (if it's a 4D image, e.g., rs-fMRI data)\n",
        "fmri_img_vol = image.index_img(fmri_img, 0)\n",
        "\n",
        "# Load a standard brain surface for visualization\n",
        "fsaverage = datasets.fetch_surf_fsaverage()\n",
        "\n",
        "# Project the selected volume to the cortical surface\n",
        "texture_left = surface.vol_to_surf(fmri_img_vol, fsaverage.pial_left)\n",
        "texture_right = surface.vol_to_surf(fmri_img_vol, fsaverage.pial_right)\n",
        "\n",
        "# Plot the projected data on the brain surface\n",
        "plotting.plot_surf_stat_map(fsaverage.infl_left, texture_left, hemi='left', title='Left Hemisphere')\n",
        "plotting.plot_surf_stat_map(fsaverage.infl_right, texture_right, hemi='right', title='Right Hemisphere')\n",
        "\n",
        "plotting.show()\n"
      ],
      "metadata": {
        "execution": {
          "iopub.status.busy": "2024-10-15T02:58:36.112349Z",
          "iopub.execute_input": "2024-10-15T02:58:36.112878Z",
          "iopub.status.idle": "2024-10-15T02:58:40.460087Z",
          "shell.execute_reply.started": "2024-10-15T02:58:36.112821Z",
          "shell.execute_reply": "2024-10-15T02:58:40.458871Z"
        },
        "trusted": true,
        "id": "wIQkl8U6OnC4"
      },
      "execution_count": null,
      "outputs": []
    },
    {
      "cell_type": "markdown",
      "source": [
        "# Visualize DICOM file (rs-fMRI)"
      ],
      "metadata": {
        "id": "4JLF33U9OnC5"
      }
    },
    {
      "cell_type": "code",
      "source": [
        "from nilearn import image\n",
        "\n",
        "# Load your fMRI image\n",
        "fmri_img = image.index_img(fmri_img, 0)  # Select the first volume (or another index)\n",
        "\n",
        "# Project the selected volume to the cortical surface\n",
        "texture_left = surface.vol_to_surf(fmri_img, fsaverage.pial_left)\n",
        "texture_right = surface.vol_to_surf(fmri_img, fsaverage.pial_right)\n",
        "\n",
        "# Plot the projected data on the brain surface\n",
        "plotting.plot_surf_stat_map(fsaverage.infl_left, texture_left, hemi='left', title='Left Hemisphere')\n",
        "plotting.plot_surf_stat_map(fsaverage.infl_right, texture_right, hemi='right', title='Right Hemisphere')\n",
        "\n",
        "plotting.show()\n"
      ],
      "metadata": {
        "execution": {
          "iopub.status.busy": "2024-10-15T02:58:45.932528Z",
          "iopub.execute_input": "2024-10-15T02:58:45.933025Z",
          "iopub.status.idle": "2024-10-15T02:58:50.16349Z",
          "shell.execute_reply.started": "2024-10-15T02:58:45.93298Z",
          "shell.execute_reply": "2024-10-15T02:58:50.162202Z"
        },
        "trusted": true,
        "id": "kz-oXE8dOnC6"
      },
      "execution_count": null,
      "outputs": []
    },
    {
      "cell_type": "markdown",
      "source": [
        "# Convert DICOM files to NIfTI using the dcm2niix tool"
      ],
      "metadata": {
        "id": "KWfKCnuMOnC6"
      }
    },
    {
      "cell_type": "code",
      "source": [
        "!apt-get install -y dcm2niix\n"
      ],
      "metadata": {
        "execution": {
          "iopub.status.busy": "2024-10-15T02:40:14.182455Z",
          "iopub.execute_input": "2024-10-15T02:40:14.183187Z",
          "iopub.status.idle": "2024-10-15T02:40:23.351735Z",
          "shell.execute_reply.started": "2024-10-15T02:40:14.183136Z",
          "shell.execute_reply": "2024-10-15T02:40:23.35006Z"
        },
        "trusted": true,
        "id": "NafrrdsROnC7"
      },
      "execution_count": null,
      "outputs": []
    },
    {
      "cell_type": "code",
      "source": [
        "import subprocess\n",
        "\n",
        "dicom_directory = '/kaggle/input/stage-of-alzheimer/NC/ADNI/002_S_0295/Resting_State_fMRI/2011-06-02_07_56_36.0/I238623'\n",
        "output_directory = '/kaggle/working'  # Specify where you want to save the NIfTI file\n",
        "\n",
        "# Run dcm2niix and capture output and error messages\n",
        "result = subprocess.run(['dcm2niix', '-z', 'y', '-f', '%p_%s', '-o', output_directory, dicom_directory],\n",
        "                        capture_output=True, text=True)\n",
        "\n",
        "# Print the output and error messages\n",
        "print(\"Output:\\n\", result.stdout)\n",
        "print(\"Error:\\n\", result.stderr)\n"
      ],
      "metadata": {
        "execution": {
          "iopub.status.busy": "2024-10-15T02:40:23.354177Z",
          "iopub.execute_input": "2024-10-15T02:40:23.354635Z",
          "iopub.status.idle": "2024-10-15T02:41:40.34771Z",
          "shell.execute_reply.started": "2024-10-15T02:40:23.354574Z",
          "shell.execute_reply": "2024-10-15T02:41:40.346199Z"
        },
        "trusted": true,
        "id": "TI6sJHyXOnC7"
      },
      "execution_count": null,
      "outputs": []
    },
    {
      "cell_type": "code",
      "source": [
        "import os\n",
        "\n",
        "print(\"Converted files:\")\n",
        "print(os.listdir(output_directory))\n"
      ],
      "metadata": {
        "execution": {
          "iopub.status.busy": "2024-10-15T02:41:40.349382Z",
          "iopub.execute_input": "2024-10-15T02:41:40.349909Z",
          "iopub.status.idle": "2024-10-15T02:41:40.35753Z",
          "shell.execute_reply.started": "2024-10-15T02:41:40.349851Z",
          "shell.execute_reply": "2024-10-15T02:41:40.356Z"
        },
        "trusted": true,
        "id": "PaId2RyyOnC7"
      },
      "execution_count": null,
      "outputs": []
    },
    {
      "cell_type": "code",
      "source": [
        "import os\n",
        "import pydicom\n",
        "import matplotlib.pyplot as plt\n",
        "\n",
        "# Define your DICOM directory\n",
        "dicom_directory = '/kaggle/input/stage-of-alzheimer/MCI/ADNI/002_S_1155/Resting_State_fMRI/2012-12-20_12_16_12.0/I352947'\n",
        "\n",
        "# List all files in the directory\n",
        "files = os.listdir(dicom_directory)\n",
        "\n",
        "# Filter to only get DICOM files (optional if there are non-DICOM files)\n",
        "dicom_files = [f for f in files if f.endswith('.dcm')]\n",
        "\n",
        "# Check if any DICOM files exist\n",
        "if len(dicom_files) == 0:\n",
        "    print(\"No DICOM files found in the directory.\")\n",
        "else:\n",
        "    # Load the first DICOM file\n",
        "    dicom_file = os.path.join(dicom_directory, dicom_files[0])\n",
        "    ds = pydicom.dcmread(dicom_file)\n",
        "\n",
        "    # Print metadata\n",
        "    print(ds)\n",
        "\n",
        "    # Extract and plot the image data (if available)\n",
        "    plt.imshow(ds.pixel_array, cmap=plt.cm.gray)\n",
        "    plt.show()\n"
      ],
      "metadata": {
        "execution": {
          "iopub.status.busy": "2024-10-15T02:41:40.361612Z",
          "iopub.execute_input": "2024-10-15T02:41:40.362462Z",
          "iopub.status.idle": "2024-10-15T02:41:41.765855Z",
          "shell.execute_reply.started": "2024-10-15T02:41:40.362401Z",
          "shell.execute_reply": "2024-10-15T02:41:41.764314Z"
        },
        "trusted": true,
        "id": "swHI7YE0OnC8"
      },
      "execution_count": null,
      "outputs": []
    },
    {
      "cell_type": "markdown",
      "source": [
        "# Normal"
      ],
      "metadata": {
        "id": "CnmUjkDzOnC8"
      }
    },
    {
      "cell_type": "code",
      "source": [
        "import os\n",
        "import pydicom\n",
        "import matplotlib.pyplot as plt\n",
        "\n",
        "# Define your DICOM directory\n",
        "dicom_directory = '/kaggle/input/stage-of-alzheimer/NC/ADNI/002_S_0295/Resting_State_fMRI/2011-06-02_07_56_36.0/I238623'\n",
        "\n",
        "# List all files in the directory\n",
        "files = os.listdir(dicom_directory)\n",
        "\n",
        "# Filter to only get DICOM files (optional if there are non-DICOM files)\n",
        "dicom_files = [f for f in files if f.endswith('.dcm')]\n",
        "\n",
        "# Check if any DICOM files exist\n",
        "if len(dicom_files) == 0:\n",
        "    print(\"No DICOM files found in the directory.\")\n",
        "else:\n",
        "    # Load the first DICOM file\n",
        "    dicom_file = os.path.join(dicom_directory, dicom_files[1])\n",
        "    ds = pydicom.dcmread(dicom_file)\n",
        "\n",
        "    # Print metadata\n",
        "    print(ds)\n",
        "\n",
        "    # Extract and plot the image data (if available)\n",
        "    plt.imshow(ds.pixel_array, cmap=plt.cm.gray)\n",
        "    plt.show()\n"
      ],
      "metadata": {
        "execution": {
          "iopub.status.busy": "2024-10-15T02:41:41.76776Z",
          "iopub.execute_input": "2024-10-15T02:41:41.768292Z",
          "iopub.status.idle": "2024-10-15T02:41:42.042465Z",
          "shell.execute_reply.started": "2024-10-15T02:41:41.768237Z",
          "shell.execute_reply": "2024-10-15T02:41:42.041046Z"
        },
        "trusted": true,
        "id": "Q3WGznAsOnC8"
      },
      "execution_count": null,
      "outputs": []
    },
    {
      "cell_type": "markdown",
      "source": [
        "# Visualizing the Connectivity Matrix"
      ],
      "metadata": {
        "id": "wSLy28fFOnC9"
      }
    },
    {
      "cell_type": "markdown",
      "source": [
        "# Normal"
      ],
      "metadata": {
        "id": "babSZeQrOnC9"
      }
    },
    {
      "cell_type": "code",
      "source": [
        "import os\n",
        "import numpy as np\n",
        "import pydicom  # Make sure pydicom is installed in your environment\n",
        "import matplotlib.pyplot as plt\n",
        "import seaborn as sns\n",
        "from nilearn import datasets\n",
        "from scipy.ndimage import gaussian_filter  # Import Gaussian filter\n",
        "\n",
        "# Path to the directory containing the DICOM files\n",
        "dicom_directory = '/kaggle/input/stage-of-alzheimer/NC/ADNI/002_S_0295/Resting_State_fMRI/2011-06-02_07_56_36.0/I238623'\n",
        "\n",
        "# Check if the directory exists\n",
        "if not os.path.exists(dicom_directory):\n",
        "    print(f\"Directory not found: {dicom_directory}\")\n",
        "else:\n",
        "    print(f\"Directory exists: {dicom_directory}\")\n",
        "\n",
        "    # Load the DICOM files\n",
        "    def load_dicom_series(directory):\n",
        "        dicom_files = [os.path.join(directory, f) for f in os.listdir(directory) if f.endswith('.dcm')]\n",
        "        dicom_files.sort()  # Sort the files to maintain order\n",
        "        images = []\n",
        "        for dicom_file in dicom_files:\n",
        "            ds = pydicom.dcmread(dicom_file)\n",
        "            images.append(ds.pixel_array)  # Append pixel data\n",
        "        return np.array(images)\n",
        "\n",
        "    # Load your fMRI data\n",
        "    fmri_data = load_dicom_series(dicom_directory)\n",
        "    print(f\"Shape of fMRI data: {fmri_data.shape}\")  # (time_points, height, width)\n",
        "\n",
        "# Function to extract time series from the 4D fMRI data\n",
        "def extract_time_series(fmri_data):\n",
        "    # Get the shape of the fMRI data\n",
        "    time_points, height, width = fmri_data.shape[0], fmri_data.shape[1], fmri_data.shape[2]\n",
        "\n",
        "    # Reshape to a 2D array: (voxels, time_points)\n",
        "    reshaped_data = fmri_data.reshape(-1, time_points)\n",
        "    return reshaped_data\n",
        "\n",
        "# Extract time series from the fMRI data\n",
        "time_series = extract_time_series(fmri_data)\n",
        "print(f\"Shape of time series data: {time_series.shape}\")  # (voxels, time_points)\n",
        "\n",
        "# Function to compute the functional connectivity matrix\n",
        "def compute_functional_connectivity(time_series):\n",
        "    # Calculate the correlation matrix\n",
        "    connectivity_matrix = np.corrcoef(time_series)\n",
        "    return connectivity_matrix\n",
        "\n",
        "# Compute the functional connectivity matrix\n",
        "connectivity_matrix = compute_functional_connectivity(time_series)\n",
        "print(f\"Shape of connectivity matrix: {connectivity_matrix.shape}\")  # (voxels, voxels)\n",
        "\n",
        "# Apply Gaussian filter to the functional connectivity matrix\n",
        "smoothed_connectivity_matrix = gaussian_filter(connectivity_matrix, sigma=2)  # You can adjust sigma value\n",
        "\n",
        "# Load the AAL brain atlas and its labels\n",
        "atlas = datasets.fetch_atlas_aal()\n",
        "atlas_labels = atlas['labels']  # Get brain region labels\n",
        "\n",
        "# Truncate the connectivity matrix if it's larger than the number of available atlas labels\n",
        "num_labels = len(atlas_labels)\n",
        "if smoothed_connectivity_matrix.shape[0] > num_labels:\n",
        "    truncated_connectivity_matrix = smoothed_connectivity_matrix[:num_labels, :num_labels]\n",
        "else:\n",
        "    truncated_connectivity_matrix = smoothed_connectivity_matrix  # Use the original if no truncation needed\n",
        "\n",
        "# Function to plot a clearer connectivity matrix with enhancements\n",
        "def plot_enhanced_connectivity_matrix(connectivity_matrix, labels):\n",
        "    plt.figure(figsize=(14, 12), dpi=100)  # Increase size and DPI\n",
        "    sns.set(font_scale=1)  # Increase font scale for better readability\n",
        "    sns.heatmap(connectivity_matrix, cmap='coolwarm', square=True,\n",
        "                xticklabels=labels[:connectivity_matrix.shape[0]],\n",
        "                yticklabels=labels[:connectivity_matrix.shape[0]],\n",
        "                cbar_kws={\"shrink\": .4}, linewidths=.2)  # Add lines between cells for clarity\n",
        "    plt.title('Functional Connectivity Matrix (Enhanced)', fontsize=5)\n",
        "    plt.xlabel('Brain Regions', fontsize=4)\n",
        "    plt.ylabel('Brain Regions', fontsize=4)\n",
        "    plt.xticks(rotation=90)  # Rotate x-axis labels for better readability\n",
        "    plt.tight_layout()  # Adjust layout to fit everything well\n",
        "    plt.show()\n",
        "\n",
        "# Plot the enhanced connectivity matrix with the AAL labels\n",
        "plot_enhanced_connectivity_matrix(truncated_connectivity_matrix, atlas_labels)\n"
      ],
      "metadata": {
        "execution": {
          "iopub.status.busy": "2024-10-15T02:41:42.044407Z",
          "iopub.execute_input": "2024-10-15T02:41:42.044841Z",
          "iopub.status.idle": "2024-10-15T02:42:12.627286Z",
          "shell.execute_reply.started": "2024-10-15T02:41:42.0448Z",
          "shell.execute_reply": "2024-10-15T02:42:12.625964Z"
        },
        "trusted": true,
        "id": "Ba7oCh7fOnC9"
      },
      "execution_count": null,
      "outputs": []
    },
    {
      "cell_type": "code",
      "source": [
        "import os\n",
        "import numpy as np\n",
        "import pydicom  # Make sure pydicom is installed in your environment\n",
        "import matplotlib.pyplot as plt\n",
        "import seaborn as sns\n",
        "from nilearn import datasets\n",
        "from scipy.ndimage import gaussian_filter  # Import Gaussian filter\n",
        "from scipy.ndimage import median_filter\n",
        "\n",
        "# Path to the directory containing the DICOM files\n",
        "dicom_directory = '/kaggle/input/stage-of-alzheimer/NC/ADNI/002_S_0295/Resting_State_fMRI/2011-06-02_07_56_36.0/I238623'\n",
        "\n",
        "# Check if the directory exists\n",
        "if not os.path.exists(dicom_directory):\n",
        "    print(f\"Directory not found: {dicom_directory}\")\n",
        "else:\n",
        "    print(f\"Directory exists: {dicom_directory}\")\n",
        "\n",
        "    # Load the DICOM files\n",
        "    def load_dicom_series(directory):\n",
        "        dicom_files = [os.path.join(directory, f) for f in os.listdir(directory) if f.endswith('.dcm')]\n",
        "        dicom_files.sort()  # Sort the files to maintain order\n",
        "        images = []\n",
        "        for dicom_file in dicom_files:\n",
        "            ds = pydicom.dcmread(dicom_file)\n",
        "            images.append(ds.pixel_array)  # Append pixel data\n",
        "        return np.array(images)\n",
        "\n",
        "    # Load your fMRI data\n",
        "    fmri_data = load_dicom_series(dicom_directory)\n",
        "    print(f\"Shape of fMRI data: {fmri_data.shape}\")  # (time_points, height, width)\n",
        "\n",
        "# Function to extract time series from the 4D fMRI data\n",
        "def extract_time_series(fmri_data):\n",
        "    # Get the shape of the fMRI data\n",
        "    time_points, height, width = fmri_data.shape[0], fmri_data.shape[1], fmri_data.shape[2]\n",
        "\n",
        "    # Reshape to a 2D array: (voxels, time_points)\n",
        "    reshaped_data = fmri_data.reshape(-1, time_points)\n",
        "    return reshaped_data\n",
        "\n",
        "# Extract time series from the fMRI data\n",
        "time_series = extract_time_series(fmri_data)\n",
        "print(f\"Shape of time series data: {time_series.shape}\")  # (voxels, time_points)\n",
        "\n",
        "# Function to compute the functional connectivity matrix\n",
        "def compute_functional_connectivity(time_series):\n",
        "    # Calculate the correlation matrix\n",
        "    connectivity_matrix = np.corrcoef(time_series)\n",
        "    return connectivity_matrix\n",
        "\n",
        "# Apply median filter to reduce noise\n",
        "filtered_matrix = median_filter(connectivity_matrix, size=3)  # Adjust size for the window size\n",
        "\n",
        "# Compute the functional connectivity matrix\n",
        "connectivity_matrix = compute_functional_connectivity(time_series)\n",
        "print(f\"Shape of connectivity matrix: {connectivity_matrix.shape}\")  # (voxels, voxels)\n",
        "\n",
        "# Apply Gaussian filter to the functional connectivity matrix\n",
        "smoothed_connectivity_matrix = gaussian_filter(connectivity_matrix, sigma=3)  # You can adjust sigma value\n",
        "\n",
        "# Load the AAL brain atlas and its labels\n",
        "atlas = datasets.fetch_atlas_aal()\n",
        "atlas_labels = atlas['labels']  # Get brain region labels\n",
        "\n",
        "# Truncate the connectivity matrix if it's larger than the number of available atlas labels\n",
        "num_labels = len(atlas_labels)\n",
        "if smoothed_connectivity_matrix.shape[0] > num_labels:\n",
        "    truncated_connectivity_matrix = smoothed_connectivity_matrix[:num_labels, :num_labels]\n",
        "else:\n",
        "    truncated_connectivity_matrix = smoothed_connectivity_matrix  # Use the original if no truncation needed\n",
        "\n",
        "# Function to plot a clearer connectivity matrix with enhancements\n",
        "def plot_enhanced_connectivity_matrix(connectivity_matrix, labels):\n",
        "    plt.figure(figsize=(14, 12), dpi=100)  # Increase size and DPI\n",
        "    sns.set(font_scale=1)  # Increase font scale for better readability\n",
        "    sns.heatmap(connectivity_matrix, cmap='coolwarm', square=True,\n",
        "                xticklabels=labels[:connectivity_matrix.shape[0]],\n",
        "                yticklabels=labels[:connectivity_matrix.shape[0]],\n",
        "                cbar_kws={\"shrink\": .4}, linewidths=.2)  # Add lines between cells for clarity\n",
        "    plt.title('Functional Connectivity Matrix (Enhanced)', fontsize=5)\n",
        "    plt.xlabel('Brain Regions', fontsize=4)\n",
        "    plt.ylabel('Brain Regions', fontsize=4)\n",
        "    plt.xticks(rotation=90)  # Rotate x-axis labels for better readability\n",
        "    plt.tight_layout()  # Adjust layout to fit everything well\n",
        "    plt.show()\n",
        "\n",
        "# Plot the enhanced connectivity matrix with the AAL labels\n",
        "plot_enhanced_connectivity_matrix(truncated_connectivity_matrix, atlas_labels)\n"
      ],
      "metadata": {
        "execution": {
          "iopub.status.busy": "2024-10-15T02:42:12.6293Z",
          "iopub.execute_input": "2024-10-15T02:42:12.629844Z",
          "iopub.status.idle": "2024-10-15T02:42:45.382564Z",
          "shell.execute_reply.started": "2024-10-15T02:42:12.629788Z",
          "shell.execute_reply": "2024-10-15T02:42:45.380829Z"
        },
        "trusted": true,
        "id": "40G79wLFOnC9"
      },
      "execution_count": null,
      "outputs": []
    },
    {
      "cell_type": "markdown",
      "source": [
        "# Actual brain activity position"
      ],
      "metadata": {
        "id": "J0sgJ7QhOnC-"
      }
    },
    {
      "cell_type": "code",
      "source": [
        "pip install nilearn matplotlib\n"
      ],
      "metadata": {
        "execution": {
          "iopub.status.busy": "2024-10-15T02:42:45.385199Z",
          "iopub.execute_input": "2024-10-15T02:42:45.38578Z",
          "iopub.status.idle": "2024-10-15T02:42:59.162341Z",
          "shell.execute_reply.started": "2024-10-15T02:42:45.385724Z",
          "shell.execute_reply": "2024-10-15T02:42:59.160632Z"
        },
        "trusted": true,
        "id": "6sLvouF5OnC-"
      },
      "execution_count": null,
      "outputs": []
    },
    {
      "cell_type": "code",
      "source": [
        "import numpy as np\n",
        "import matplotlib.pyplot as plt\n",
        "from nilearn import plotting, datasets, surface\n",
        "from nilearn.input_data import NiftiLabelsMasker\n",
        "\n",
        "# Mock example of your connectivity matrix; replace with your actual matrix\n",
        "connectivity_matrix = np.random.rand(90, 90)  # Example connectivity matrix (90 regions)\n",
        "\n",
        "# Load the AAL atlas\n",
        "atlas = datasets.fetch_atlas_aal()\n",
        "atlas_filename = atlas['maps']  # AAL atlas NIfTI file\n",
        "atlas_labels = atlas['labels']  # Get brain region labels\n",
        "\n",
        "# Load a standard brain surface for visualization\n",
        "fsaverage = datasets.fetch_surf_fsaverage()\n",
        "\n",
        "# Use NiftiLabelsMasker to extract time series data based on atlas regions\n",
        "masker = NiftiLabelsMasker(labels_img=atlas_filename, standardize=True)\n",
        "\n",
        "# Prepare a 1D array to represent the functional connectivity on the brain surface\n",
        "left_connectivity = np.zeros(45)  # For left hemisphere\n",
        "right_connectivity = np.zeros(45)  # For right hemisphere\n",
        "\n",
        "# Map connectivity values to left and right hemispheres\n",
        "for i in range(len(atlas_labels)):\n",
        "    if i < 45:  # Left hemisphere\n",
        "        left_connectivity[i] = connectivity_matrix[i, :].mean()  # Example aggregation\n",
        "    elif i < 90:  # Right hemisphere\n",
        "        right_index = i - 45  # Adjust index for right hemisphere\n",
        "        right_connectivity[right_index] = connectivity_matrix[i, :].mean()  # Example aggregation\n",
        "\n",
        "# Project the AAL atlas regions onto the brain surface\n",
        "texture_left = surface.vol_to_surf(atlas_filename, fsaverage.pial_left)\n",
        "texture_right = surface.vol_to_surf(atlas_filename, fsaverage.pial_right)\n",
        "\n",
        "# Plot the left hemisphere\n",
        "plotting.plot_surf_stat_map(fsaverage['infl_left'],\n",
        "                            stat_map=texture_left,\n",
        "                            hemi='left',\n",
        "                            view='lateral',\n",
        "                            title='Left Hemisphere',\n",
        "                            colorbar=True)\n",
        "\n",
        "# Plot the right hemisphere\n",
        "plotting.plot_surf_stat_map(fsaverage['infl_right'],\n",
        "                            stat_map=texture_right,\n",
        "                            hemi='right',\n",
        "                            view='lateral',\n",
        "                            title='Right Hemisphere',\n",
        "                            colorbar=True)\n",
        "\n",
        "plt.show()\n"
      ],
      "metadata": {
        "execution": {
          "iopub.status.busy": "2024-10-15T02:42:59.164446Z",
          "iopub.execute_input": "2024-10-15T02:42:59.164917Z",
          "iopub.status.idle": "2024-10-15T02:43:03.66025Z",
          "shell.execute_reply.started": "2024-10-15T02:42:59.164854Z",
          "shell.execute_reply": "2024-10-15T02:43:03.658702Z"
        },
        "trusted": true,
        "id": "y6UEiRf4OnC-"
      },
      "execution_count": null,
      "outputs": []
    }
  ]
}